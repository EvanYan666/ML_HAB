{
 "cells": [
  {
   "cell_type": "code",
   "execution_count": 1,
   "id": "eef1bc9e",
   "metadata": {},
   "outputs": [
    {
     "name": "stdout",
     "output_type": "stream",
     "text": [
      "Model: \"sequential\"\n",
      "_________________________________________________________________\n",
      "Layer (type)                 Output Shape              Param #   \n",
      "=================================================================\n",
      "dense (Dense)                (None, 1)                 2         \n",
      "_________________________________________________________________\n",
      "dense_1 (Dense)              (None, 64)                128       \n",
      "_________________________________________________________________\n",
      "dense_2 (Dense)              (None, 32)                2080      \n",
      "_________________________________________________________________\n",
      "dense_3 (Dense)              (None, 16)                528       \n",
      "_________________________________________________________________\n",
      "dense_4 (Dense)              (None, 32)                544       \n",
      "_________________________________________________________________\n",
      "dense_5 (Dense)              (None, 64)                2112      \n",
      "_________________________________________________________________\n",
      "dense_6 (Dense)              (None, 1)                 65        \n",
      "=================================================================\n",
      "Total params: 5,459\n",
      "Trainable params: 5,459\n",
      "Non-trainable params: 0\n",
      "_________________________________________________________________\n"
     ]
    },
    {
     "data": {
      "text/html": [
       "<div>\n",
       "<style scoped>\n",
       "    .dataframe tbody tr th:only-of-type {\n",
       "        vertical-align: middle;\n",
       "    }\n",
       "\n",
       "    .dataframe tbody tr th {\n",
       "        vertical-align: top;\n",
       "    }\n",
       "\n",
       "    .dataframe thead th {\n",
       "        text-align: right;\n",
       "    }\n",
       "</style>\n",
       "<table border=\"1\" class=\"dataframe\">\n",
       "  <thead>\n",
       "    <tr style=\"text-align: right;\">\n",
       "      <th></th>\n",
       "      <th>time</th>\n",
       "      <th>ammonia nitrogen</th>\n",
       "    </tr>\n",
       "  </thead>\n",
       "  <tbody>\n",
       "    <tr>\n",
       "      <th>0</th>\n",
       "      <td>0.000000</td>\n",
       "      <td>0.044343</td>\n",
       "    </tr>\n",
       "    <tr>\n",
       "      <th>1</th>\n",
       "      <td>0.002903</td>\n",
       "      <td>0.006116</td>\n",
       "    </tr>\n",
       "    <tr>\n",
       "      <th>2</th>\n",
       "      <td>0.005805</td>\n",
       "      <td>0.235474</td>\n",
       "    </tr>\n",
       "    <tr>\n",
       "      <th>3</th>\n",
       "      <td>0.008708</td>\n",
       "      <td>0.082569</td>\n",
       "    </tr>\n",
       "    <tr>\n",
       "      <th>4</th>\n",
       "      <td>0.011611</td>\n",
       "      <td>0.159021</td>\n",
       "    </tr>\n",
       "    <tr>\n",
       "      <th>...</th>\n",
       "      <td>...</td>\n",
       "      <td>...</td>\n",
       "    </tr>\n",
       "    <tr>\n",
       "      <th>292</th>\n",
       "      <td>0.986938</td>\n",
       "      <td>0.006116</td>\n",
       "    </tr>\n",
       "    <tr>\n",
       "      <th>293</th>\n",
       "      <td>0.989840</td>\n",
       "      <td>0.006116</td>\n",
       "    </tr>\n",
       "    <tr>\n",
       "      <th>294</th>\n",
       "      <td>0.993470</td>\n",
       "      <td>0.006116</td>\n",
       "    </tr>\n",
       "    <tr>\n",
       "      <th>295</th>\n",
       "      <td>0.996371</td>\n",
       "      <td>0.006116</td>\n",
       "    </tr>\n",
       "    <tr>\n",
       "      <th>296</th>\n",
       "      <td>1.000000</td>\n",
       "      <td>0.006116</td>\n",
       "    </tr>\n",
       "  </tbody>\n",
       "</table>\n",
       "<p>297 rows × 2 columns</p>\n",
       "</div>"
      ],
      "text/plain": [
       "         time  ammonia nitrogen\n",
       "0    0.000000          0.044343\n",
       "1    0.002903          0.006116\n",
       "2    0.005805          0.235474\n",
       "3    0.008708          0.082569\n",
       "4    0.011611          0.159021\n",
       "..        ...               ...\n",
       "292  0.986938          0.006116\n",
       "293  0.989840          0.006116\n",
       "294  0.993470          0.006116\n",
       "295  0.996371          0.006116\n",
       "296  1.000000          0.006116\n",
       "\n",
       "[297 rows x 2 columns]"
      ]
     },
     "execution_count": 1,
     "metadata": {},
     "output_type": "execute_result"
    }
   ],
   "source": [
    "import glob\n",
    "import numpy as np\n",
    "import matplotlib.pyplot as plt\n",
    "import pandas as pd\n",
    "import numpy as np\n",
    "import sklearn\n",
    "import tensorflow as tf\n",
    "model = tf.keras.models.load_model('C:/Users/yanzh/saved_model/my_modelBB17_AN')\n",
    "\n",
    "# Check its architecture\n",
    "model.summary()\n",
    "\n",
    "df = pd.read_csv(\"C:/Users/yanzh/Desktop/AN_data/BB17.csv\")\n",
    "time = df['time'].values\n",
    "AN = df['ammonia nitrogen'].values\n",
    "df"
   ]
  },
  {
   "cell_type": "code",
   "execution_count": 2,
   "id": "50f0c550",
   "metadata": {},
   "outputs": [
    {
     "data": {
      "image/png": "[encoded data removed]",
      "text/plain": [
       "<Figure size 1080x360 with 1 Axes>"
      ]
     },
     "metadata": {
      "needs_background": "light"
     },
     "output_type": "display_data"
    },
    {
     "name": "stdout",
     "output_type": "stream",
     "text": [
      "313/313 [==============================] - 0s 345us/step - loss: 2.1864e-16\n",
      "['loss']\n"
     ]
    }
   ],
   "source": [
    "#Transform the normalized scale to real scale\n",
    "AN_min = 0.0084\n",
    "AN_max = 0.27\n",
    "time_min = 34709.00     \n",
    "time_max = 44355.41     \n",
    "\n",
    "newtimepoints_scaled = np.linspace(time[0] - (time[1] - time[0]),time[-1], 10000)\n",
    "y_predicted_scaled = model.predict(newtimepoints_scaled)\n",
    "\n",
    "newtimepoints = newtimepoints_scaled*(time_max - time_min) + time_min\n",
    "y_predicted = y_predicted_scaled*(AN_max - AN_min) + AN_min\n",
    "\n",
    "# Display the result\n",
    "import matplotlib.pylab as pylab\n",
    "params = {'legend.fontsize': 'x-large',\n",
    "          'figure.figsize': (15, 5),\n",
    "         'axes.labelsize': 'x-large',\n",
    "         'axes.titlesize':'x-large',\n",
    "         'xtick.labelsize':'x-large',\n",
    "         'ytick.labelsize':'x-large'}\n",
    "pylab.rcParams.update(params)\n",
    "plt.scatter(time*(time_max - time_min) + time_min, AN*(AN_max - AN_min) + AN_min, label='Original Data')\n",
    "plt.scatter(newtimepoints, y_predicted, c = 'red', s = 1, label = 'Interpolated Data')\n",
    "plt.xlabel('Time')\n",
    "plt.ylabel('Ammonia Nitrogen')\n",
    "plt.legend()\n",
    "plt.show()\n",
    "\n",
    "model.evaluate(newtimepoints_scaled, y_predicted_scaled, batch_size=32)\n",
    "print(model.metrics_names)"
   ]
  },
  {
   "cell_type": "code",
   "execution_count": 3,
   "id": "c288ebe0",
   "metadata": {},
   "outputs": [
    {
     "data": {
      "text/plain": [
       "array([[0.33289614],\n",
       "       [0.34765878],\n",
       "       [0.35014573],\n",
       "       [0.34673348],\n",
       "       [0.34332117],\n",
       "       [0.33990893],\n",
       "       [0.33644068],\n",
       "       [0.32877657],\n",
       "       [0.32032388],\n",
       "       [0.30516317],\n",
       "       [0.28609267],\n",
       "       [0.26587677],\n",
       "       [0.24532942],\n",
       "       [0.22585629],\n",
       "       [0.20664497],\n",
       "       [0.18773955],\n",
       "       [0.16883409],\n",
       "       [0.15008804],\n",
       "       [0.13166513],\n",
       "       [0.1173093 ],\n",
       "       [0.10921159]], dtype=float32)"
      ]
     },
     "execution_count": 3,
     "metadata": {},
     "output_type": "execute_result"
    }
   ],
   "source": [
    "interpolation = model.predict([0.078682123\n",
    ",0.084798389\n",
    ",0.091121985\n",
    ",0.097445581\n",
    ",0.103769177\n",
    ",0.110092773\n",
    ",0.116520035\n",
    ",0.1226363\n",
    ",0.128959897\n",
    ",0.135283493\n",
    ",0.141607089\n",
    ",0.147930685\n",
    ",0.154357947\n",
    ",0.160474212\n",
    ",0.166797808\n",
    ",0.173121405\n",
    ",0.179445001\n",
    ",0.185768597\n",
    ",0.192195859\n",
    ",0.198415789\n",
    ",0.211062982\n",
    "])\n",
    "interpolation"
   ]
  },
  {
   "cell_type": "code",
   "execution_count": null,
   "id": "01a5b912",
   "metadata": {},
   "outputs": [],
   "source": []
  }
 ],
 "metadata": {
  "kernelspec": {
   "display_name": "Python 3",
   "language": "python",
   "name": "python3"
  },
  "language_info": {
   "codemirror_mode": {
    "name": "ipython",
    "version": 3
   },
   "file_extension": ".py",
   "mimetype": "text/x-python",
   "name": "python",
   "nbconvert_exporter": "python",
   "pygments_lexer": "ipython3",
   "version": "3.8.8"
  }
 },
 "nbformat": 4,
 "nbformat_minor": 5
}
