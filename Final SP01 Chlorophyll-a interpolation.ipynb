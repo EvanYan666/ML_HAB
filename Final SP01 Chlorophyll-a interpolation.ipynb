{
 "cells": [
  {
   "cell_type": "code",
   "execution_count": 1,
   "id": "b946aa57",
   "metadata": {},
   "outputs": [
    {
     "name": "stdout",
     "output_type": "stream",
     "text": [
      "Model: \"sequential\"\n",
      "_________________________________________________________________\n",
      "Layer (type)                 Output Shape              Param #   \n",
      "=================================================================\n",
      "dense (Dense)                (None, 1)                 2         \n",
      "_________________________________________________________________\n",
      "dense_1 (Dense)              (None, 128)               256       \n",
      "_________________________________________________________________\n",
      "dense_2 (Dense)              (None, 64)                8256      \n",
      "_________________________________________________________________\n",
      "dense_3 (Dense)              (None, 32)                2080      \n",
      "_________________________________________________________________\n",
      "dense_4 (Dense)              (None, 64)                2112      \n",
      "_________________________________________________________________\n",
      "dense_5 (Dense)              (None, 128)               8320      \n",
      "_________________________________________________________________\n",
      "dense_6 (Dense)              (None, 1)                 129       \n",
      "=================================================================\n",
      "Total params: 21,155\n",
      "Trainable params: 21,155\n",
      "Non-trainable params: 0\n",
      "_________________________________________________________________\n"
     ]
    }
   ],
   "source": [
    "import glob\n",
    "import numpy as np\n",
    "import matplotlib.pyplot as plt\n",
    "import pandas as pd\n",
    "import numpy as np\n",
    "import sklearn\n",
    "import tensorflow as tf\n",
    "model = tf.keras.models.load_model('saved_model/my_modelSP01')\n",
    "\n",
    "# Check its architecture\n",
    "model.summary()"
   ]
  },
  {
   "cell_type": "code",
   "execution_count": 2,
   "id": "1a4d18b2",
   "metadata": {},
   "outputs": [
    {
     "data": {
      "image/png": "[encoded data removed]",
      "text/plain": [
       "<Figure size 1080x360 with 1 Axes>"
      ]
     },
     "metadata": {
      "needs_background": "light"
     },
     "output_type": "display_data"
    },
    {
     "name": "stdout",
     "output_type": "stream",
     "text": [
      "313/313 [==============================] - 0s 333us/step - loss: 1.2223e-16\n",
      "['loss']\n"
     ]
    },
    {
     "data": {
      "text/plain": [
       "array([[0.14056587],\n",
       "       [0.16922064],\n",
       "       [0.19233684],\n",
       "       [0.18832542],\n",
       "       [0.18324591],\n",
       "       [0.17818637],\n",
       "       [0.17304768],\n",
       "       [0.16815768],\n",
       "       [0.16313076],\n",
       "       [0.15852658],\n",
       "       [0.15403001],\n",
       "       [0.1495434 ],\n",
       "       [0.14498326],\n",
       "       [0.14064378],\n",
       "       [0.13615718],\n",
       "       [0.1329713 ],\n",
       "       [0.13114491],\n",
       "       [0.12939952],\n",
       "       [0.12858129],\n",
       "       [0.23415947]], dtype=float32)"
      ]
     },
     "execution_count": 2,
     "metadata": {},
     "output_type": "execute_result"
    }
   ],
   "source": [
    "df = pd.read_csv(\"C:/Users/yanzh/Desktop/chloro_data/SP01.csv\")\n",
    "time = df['time'].values\n",
    "chlorophylla = df['chlorophylla'].values\n",
    "df\n",
    "#Transform the normalized scale to real scale\n",
    "chlorophylla_min = 0.16\n",
    "chlorophylla_max = 4.98\n",
    "time_min = 35439    \n",
    "time_max = 44357.42014   \n",
    "\n",
    "newtimepoints_scaled = np.linspace(time[0] - (time[1] - time[0]),time[-1], 10000)\n",
    "y_predicted_scaled = model.predict(newtimepoints_scaled)\n",
    "\n",
    "newtimepoints = newtimepoints_scaled*(time_max - time_min) + time_min\n",
    "y_predicted = y_predicted_scaled*(chlorophylla_max - chlorophylla_min) + chlorophylla_min\n",
    "# Display the result\n",
    "import matplotlib.pylab as pylab\n",
    "params = {'legend.fontsize': 'x-large',\n",
    "          'figure.figsize': (15, 5),\n",
    "         'axes.labelsize': 'x-large',\n",
    "         'axes.titlesize':'x-large',\n",
    "         'xtick.labelsize':'x-large',\n",
    "         'ytick.labelsize':'x-large'}\n",
    "pylab.rcParams.update(params)\n",
    "plt.scatter(time*(time_max - time_min) + time_min, chlorophylla*(chlorophylla_max - chlorophylla_min) + chlorophylla_min, label='Original Data')\n",
    "plt.scatter(newtimepoints, y_predicted, c = 'red', s = 1, label = 'Interpolated Data')\n",
    "plt.xlabel('Time')\n",
    "plt.ylabel('Chlorophyll-a')\n",
    "plt.legend()\n",
    "plt.show()\n",
    "model.evaluate(newtimepoints_scaled, y_predicted_scaled, batch_size=32)\n",
    "print(model.metrics_names)\n",
    "interpolation = model.predict([0.003475952\n",
    ",0.010091473\n",
    ",0.01693125\n",
    ",0.023771026\n",
    ",0.030610803\n",
    ",0.037450579\n",
    ",0.044402483\n",
    ",0.051018005\n",
    ",0.057857781\n",
    ",0.064697558\n",
    ",0.071537334\n",
    ",0.07837711\n",
    ",0.085329014\n",
    ",0.091944536\n",
    ",0.098784312\n",
    ",0.105624089\n",
    ",0.112463865\n",
    ",0.119303642\n",
    ",0.126255546\n",
    ",0.958914232\n",
    "])\n",
    "interpolation"
   ]
  },
  {
   "cell_type": "code",
   "execution_count": null,
   "id": "419c7054",
   "metadata": {},
   "outputs": [],
   "source": []
  }
 ],
 "metadata": {
  "kernelspec": {
   "display_name": "Python 3",
   "language": "python",
   "name": "python3"
  },
  "language_info": {
   "codemirror_mode": {
    "name": "ipython",
    "version": 3
   },
   "file_extension": ".py",
   "mimetype": "text/x-python",
   "name": "python",
   "nbconvert_exporter": "python",
   "pygments_lexer": "ipython3",
   "version": "3.8.8"
  }
 },
 "nbformat": 4,
 "nbformat_minor": 5
}
