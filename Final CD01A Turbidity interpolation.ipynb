{
 "cells": [
  {
   "cell_type": "code",
   "execution_count": 3,
   "id": "f3a20368",
   "metadata": {},
   "outputs": [
    {
     "name": "stdout",
     "output_type": "stream",
     "text": [
      "Model: \"sequential_1\"\n",
      "_________________________________________________________________\n",
      "Layer (type)                 Output Shape              Param #   \n",
      "=================================================================\n",
      "dense_7 (Dense)              (None, 1)                 2         \n",
      "_________________________________________________________________\n",
      "dense_8 (Dense)              (None, 64)                128       \n",
      "_________________________________________________________________\n",
      "dense_9 (Dense)              (None, 32)                2080      \n",
      "_________________________________________________________________\n",
      "dense_10 (Dense)             (None, 16)                528       \n",
      "_________________________________________________________________\n",
      "dense_11 (Dense)             (None, 32)                544       \n",
      "_________________________________________________________________\n",
      "dense_12 (Dense)             (None, 64)                2112      \n",
      "_________________________________________________________________\n",
      "dense_13 (Dense)             (None, 1)                 65        \n",
      "=================================================================\n",
      "Total params: 5,459\n",
      "Trainable params: 5,459\n",
      "Non-trainable params: 0\n",
      "_________________________________________________________________\n"
     ]
    },
    {
     "data": {
      "image/png": "[encoded data removed]",
      "text/plain": [
       "<Figure size 1080x360 with 1 Axes>"
      ]
     },
     "metadata": {
      "needs_background": "light"
     },
     "output_type": "display_data"
    },
    {
     "name": "stdout",
     "output_type": "stream",
     "text": [
      "313/313 [==============================] - 0s 330us/step - loss: 2.7814e-17\n",
      "['loss']\n"
     ]
    }
   ],
   "source": [
    "import glob\n",
    "import numpy as np\n",
    "import matplotlib.pyplot as plt\n",
    "import pandas as pd\n",
    "import numpy as np\n",
    "import sklearn\n",
    "import tensorflow as tf\n",
    "model = tf.keras.models.load_model('C:/Users/yanzh/Interpolation/Turbidity/saved_model/my_modelCD01A_Turbidity')\n",
    "\n",
    "# Check its architecture\n",
    "model.summary()\n",
    "\n",
    "df = pd.read_csv(\"C:/Users/yanzh/Desktop/Turbidity_data/CD01A.csv\")\n",
    "time = df['time'].values\n",
    "turbidity = df['turbidity'].values\n",
    "df\n",
    "\n",
    "#Transform the normalized scale to real scale\n",
    "turbidity_min = 0.2\n",
    "turbidity_max = 25.4\n",
    "time_min = 35439.00                     \n",
    "time_max = 44357.44                                \n",
    "\n",
    "newtimepoints_scaled = np.linspace(time[0] - (time[1] - time[0]),time[-1], 10000)\n",
    "y_predicted_scaled = model.predict(newtimepoints_scaled)\n",
    "\n",
    "newtimepoints = newtimepoints_scaled*(time_max - time_min) + time_min\n",
    "y_predicted = y_predicted_scaled*(turbidity_max - turbidity_min) + turbidity_min\n",
    "\n",
    "# Display the result\n",
    "import matplotlib.pylab as pylab\n",
    "params = {'legend.fontsize': 'x-large',\n",
    "          'figure.figsize': (15, 5),\n",
    "         'axes.labelsize': 'x-large',\n",
    "         'axes.titlesize':'x-large',\n",
    "         'xtick.labelsize':'x-large',\n",
    "         'ytick.labelsize':'x-large'}\n",
    "pylab.rcParams.update(params)\n",
    "plt.scatter(time*(time_max - time_min) + time_min, turbidity*(turbidity_max - turbidity_min) + turbidity_min, label='Original Data')\n",
    "plt.scatter(newtimepoints, y_predicted, c = 'red', s = 1, label = 'Interpolated Data')\n",
    "plt.xlabel('Time')\n",
    "plt.ylabel('Turbidity')\n",
    "plt.legend()\n",
    "plt.show()\n",
    "\n",
    "model.evaluate(newtimepoints_scaled, y_predicted_scaled, batch_size=32)\n",
    "print(model.metrics_names)"
   ]
  },
  {
   "cell_type": "code",
   "execution_count": 5,
   "id": "b3ca4cc1",
   "metadata": {},
   "outputs": [
    {
     "data": {
      "text/plain": [
       "array([[0.00750276],\n",
       "       [0.01131927],\n",
       "       [0.01526513],\n",
       "       [0.01921102],\n",
       "       [0.02315692],\n",
       "       [0.02710374],\n",
       "       [0.03101392],\n",
       "       [0.03465057],\n",
       "       [0.03886059],\n",
       "       [0.04660874],\n",
       "       [0.12044001],\n",
       "       [0.4625402 ],\n",
       "       [0.40822786],\n",
       "       [0.1988478 ],\n",
       "       [0.0385035 ],\n",
       "       [0.0277647 ],\n",
       "       [0.01966008],\n",
       "       [0.01957318],\n",
       "       [0.01948485],\n",
       "       [0.0442235 ],\n",
       "       [0.04442896],\n",
       "       [0.04464125],\n",
       "       [0.01465985]], dtype=float32)"
      ]
     },
     "execution_count": 5,
     "metadata": {},
     "output_type": "execute_result"
    }
   ],
   "source": [
    "interpolation = model.predict([0.003363818\n",
    ",0.009979327\n",
    ",0.01681909\n",
    ",0.023658853\n",
    ",0.030498616\n",
    ",0.037338379\n",
    ",0.044290269\n",
    ",0.050905778\n",
    ",0.057745541\n",
    ",0.064585304\n",
    ",0.071425067\n",
    ",0.078264831\n",
    ",0.085216721\n",
    ",0.09183223\n",
    ",0.098671993\n",
    ",0.105511756\n",
    ",0.112351519\n",
    ",0.119191282\n",
    ",0.126143173\n",
    ",0.951960475\n",
    ",0.955324293\n",
    ",0.958800238\n",
    ",0.238718946\n",
    "])\n",
    "interpolation"
   ]
  },
  {
   "cell_type": "code",
   "execution_count": null,
   "id": "b8ab5fdd",
   "metadata": {},
   "outputs": [],
   "source": []
  }
 ],
 "metadata": {
  "kernelspec": {
   "display_name": "Python 3",
   "language": "python",
   "name": "python3"
  },
  "language_info": {
   "codemirror_mode": {
    "name": "ipython",
    "version": 3
   },
   "file_extension": ".py",
   "mimetype": "text/x-python",
   "name": "python",
   "nbconvert_exporter": "python",
   "pygments_lexer": "ipython3",
   "version": "3.8.8"
  }
 },
 "nbformat": 4,
 "nbformat_minor": 5
}
