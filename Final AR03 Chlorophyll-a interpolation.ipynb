{
 "cells": [
  {
   "cell_type": "code",
   "execution_count": 1,
   "id": "42b89951",
   "metadata": {},
   "outputs": [
    {
     "name": "stdout",
     "output_type": "stream",
     "text": [
      "Model: \"sequential_10\"\n",
      "_________________________________________________________________\n",
      "Layer (type)                 Output Shape              Param #   \n",
      "=================================================================\n",
      "dense_70 (Dense)             (None, 1)                 2         \n",
      "_________________________________________________________________\n",
      "dense_71 (Dense)             (None, 64)                128       \n",
      "_________________________________________________________________\n",
      "dense_72 (Dense)             (None, 32)                2080      \n",
      "_________________________________________________________________\n",
      "dense_73 (Dense)             (None, 16)                528       \n",
      "_________________________________________________________________\n",
      "dense_74 (Dense)             (None, 32)                544       \n",
      "_________________________________________________________________\n",
      "dense_75 (Dense)             (None, 64)                2112      \n",
      "_________________________________________________________________\n",
      "dense_76 (Dense)             (None, 1)                 65        \n",
      "=================================================================\n",
      "Total params: 5,459\n",
      "Trainable params: 5,459\n",
      "Non-trainable params: 0\n",
      "_________________________________________________________________\n"
     ]
    }
   ],
   "source": [
    "import glob\n",
    "import numpy as np\n",
    "import matplotlib.pyplot as plt\n",
    "import pandas as pd\n",
    "import numpy as np\n",
    "import sklearn\n",
    "import tensorflow as tf\n",
    "model = tf.keras.models.load_model('C:/Users/yanzh/saved_model/my_modelAR03')\n",
    "\n",
    "# Check its architecture\n",
    "model.summary()"
   ]
  },
  {
   "cell_type": "code",
   "execution_count": 2,
   "id": "245ab13a",
   "metadata": {},
   "outputs": [],
   "source": [
    "df = pd.read_csv(\"C:/Users/yanzh/Desktop/AR03.csv\")\n",
    "time = df['time'].values\n",
    "chlorophylla = df['chlorophylla'].values\n",
    "df\n",
    "#Transform the normalized scale to real scale\n",
    "chlorophylla_min = 0.16\n",
    "chlorophylla_max = 14.83\n",
    "time_min = 34710\n",
    "time_max = 44356.3680555556\n",
    "\n",
    "newtimepoints_scaled = np.linspace(time[0] - (time[1] - time[0]),time[-1], 10000)\n",
    "y_predicted_scaled = model.predict(newtimepoints_scaled)\n",
    "\n",
    "newtimepoints = newtimepoints_scaled*(time_max - time_min) + time_min\n",
    "y_predicted = y_predicted_scaled*(chlorophylla_max - chlorophylla_min) + chlorophylla_min"
   ]
  },
  {
   "cell_type": "code",
   "execution_count": 3,
   "id": "034d5079",
   "metadata": {},
   "outputs": [
    {
     "data": {
      "image/png": "[encoded data removed]",
      "text/plain": [
       "<Figure size 1080x360 with 1 Axes>"
      ]
     },
     "metadata": {
      "needs_background": "light"
     },
     "output_type": "display_data"
    }
   ],
   "source": [
    "# Display the result\n",
    "import matplotlib.pylab as pylab\n",
    "params = {'legend.fontsize': 'x-large',\n",
    "          'figure.figsize': (15, 5),\n",
    "         'axes.labelsize': 'x-large',\n",
    "         'axes.titlesize':'x-large',\n",
    "         'xtick.labelsize':'x-large',\n",
    "         'ytick.labelsize':'x-large'}\n",
    "pylab.rcParams.update(params)\n",
    "plt.scatter(time*(time_max - time_min) + time_min, chlorophylla*(chlorophylla_max - chlorophylla_min) + chlorophylla_min, label='Original Data')\n",
    "plt.scatter(newtimepoints, y_predicted, c = 'red', s = 1, label = 'Interpolated Data')\n",
    "plt.xlabel('Time')\n",
    "plt.ylabel('Chlorophyll-a')\n",
    "plt.legend()\n",
    "plt.show()"
   ]
  },
  {
   "cell_type": "code",
   "execution_count": 4,
   "id": "102ef8f5",
   "metadata": {},
   "outputs": [
    {
     "name": "stdout",
     "output_type": "stream",
     "text": [
      "313/313 [==============================] - 0s 362us/step - loss: 9.2559e-17\n",
      "['loss']\n"
     ]
    },
    {
     "data": {
      "text/plain": [
       "array([[0.14807382],\n",
       "       [0.13203192],\n",
       "       [0.1292234 ],\n",
       "       [0.12341592],\n",
       "       [0.12054612],\n",
       "       [0.11786986],\n",
       "       [0.11685564],\n",
       "       [0.11675259],\n",
       "       [0.11783377],\n",
       "       [0.11903564],\n",
       "       [0.12023749],\n",
       "       [0.12143936],\n",
       "       [0.12267871],\n",
       "       [0.12399022],\n",
       "       [0.12534617],\n",
       "       [0.12692076],\n",
       "       [0.13247839],\n",
       "       [0.13994083],\n",
       "       [0.14640495],\n",
       "       [0.13382322],\n",
       "       [0.13401225],\n",
       "       [0.13421434],\n",
       "       [0.13440989],\n",
       "       [0.13461196],\n",
       "       [0.13480753],\n",
       "       [0.13500959],\n",
       "       [0.13521168],\n",
       "       [0.13540724],\n",
       "       [0.13560931],\n",
       "       [0.13580486],\n",
       "       [0.13600695],\n",
       "       [0.13620904],\n",
       "       [0.13639155],\n",
       "       [0.13659364],\n",
       "       [0.15011871],\n",
       "       [0.14228371],\n",
       "       [0.14159773],\n",
       "       [0.1408889 ]], dtype=float32)"
      ]
     },
     "execution_count": 4,
     "metadata": {},
     "output_type": "execute_result"
    }
   ],
   "source": [
    "model.evaluate(newtimepoints_scaled, y_predicted_scaled, batch_size=32)\n",
    "print(model.metrics_names)\n",
    "interpolation = model.predict([0.043747035\n",
    ",0.078682463\n",
    ",0.084798755\n",
    ",0.097446002\n",
    ",0.103769625\n",
    ",0.110093249\n",
    ",0.116520538\n",
    ",0.12263683\n",
    ",0.128960454\n",
    ",0.135284077\n",
    ",0.141607701\n",
    ",0.147931324\n",
    ",0.154358614\n",
    ",0.160474905\n",
    ",0.166798529\n",
    ",0.173122152\n",
    ",0.179445776\n",
    ",0.185769399\n",
    ",0.192196689\n",
    ",0.646564589\n",
    ",0.649570902\n",
    ",0.652784547\n",
    ",0.655894526\n",
    ",0.65910817\n",
    ",0.662218149\n",
    ",0.665431794\n",
    ",0.668645439\n",
    ",0.671755417\n",
    ",0.674969062\n",
    ",0.678079041\n",
    ",0.681292686\n",
    ",0.68450633\n",
    ",0.687408977\n",
    ",0.690622622\n",
    ",0.895777556\n",
    ",0.95569648\n",
    ",0.958806459\n",
    ",0.962020104\n",
    "])\n",
    "interpolation"
   ]
  },
  {
   "cell_type": "code",
   "execution_count": null,
   "id": "6afbc0ef",
   "metadata": {},
   "outputs": [],
   "source": []
  }
 ],
 "metadata": {
  "kernelspec": {
   "display_name": "Python 3",
   "language": "python",
   "name": "python3"
  },
  "language_info": {
   "codemirror_mode": {
    "name": "ipython",
    "version": 3
   },
   "file_extension": ".py",
   "mimetype": "text/x-python",
   "name": "python",
   "nbconvert_exporter": "python",
   "pygments_lexer": "ipython3",
   "version": "3.8.8"
  }
 },
 "nbformat": 4,
 "nbformat_minor": 5
}
