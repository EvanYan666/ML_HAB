{
 "cells": [
  {
   "cell_type": "code",
   "execution_count": 1,
   "id": "efe206f5",
   "metadata": {},
   "outputs": [
    {
     "name": "stdout",
     "output_type": "stream",
     "text": [
      "Model: \"sequential\"\n",
      "_________________________________________________________________\n",
      "Layer (type)                 Output Shape              Param #   \n",
      "=================================================================\n",
      "dense (Dense)                (None, 1)                 2         \n",
      "_________________________________________________________________\n",
      "dense_1 (Dense)              (None, 64)                128       \n",
      "_________________________________________________________________\n",
      "dense_2 (Dense)              (None, 32)                2080      \n",
      "_________________________________________________________________\n",
      "dense_3 (Dense)              (None, 16)                528       \n",
      "_________________________________________________________________\n",
      "dense_4 (Dense)              (None, 32)                544       \n",
      "_________________________________________________________________\n",
      "dense_5 (Dense)              (None, 64)                2112      \n",
      "_________________________________________________________________\n",
      "dense_6 (Dense)              (None, 1)                 65        \n",
      "=================================================================\n",
      "Total params: 5,459\n",
      "Trainable params: 5,459\n",
      "Non-trainable params: 0\n",
      "_________________________________________________________________\n"
     ]
    }
   ],
   "source": [
    "import glob\n",
    "import numpy as np\n",
    "import matplotlib.pyplot as plt\n",
    "import pandas as pd\n",
    "import numpy as np\n",
    "import sklearn\n",
    "import tensorflow as tf\n",
    "model = tf.keras.models.load_model('saved_model/my_modelBB02')\n",
    "\n",
    "# Check its architecture\n",
    "model.summary()"
   ]
  },
  {
   "cell_type": "code",
   "execution_count": 2,
   "id": "ab900228",
   "metadata": {},
   "outputs": [],
   "source": [
    "df = pd.read_csv(\"C:/Users/yanzh/Desktop/BB02.csv\")\n",
    "time = df['time'].values\n",
    "chlorophylla = df['chlorophylla'].values\n",
    "df\n",
    "#Transform the normalized scale to real scale\n",
    "chlorophylla_min = 0.16\n",
    "chlorophylla_max = 15.41\n",
    "time_min = 34708.00 \n",
    "time_max = 44354.4930555556\n",
    "\n",
    "newtimepoints_scaled = np.linspace(time[0] - (time[1] - time[0]),time[-1], 10000)\n",
    "y_predicted_scaled = model.predict(newtimepoints_scaled)\n",
    "\n",
    "newtimepoints = newtimepoints_scaled*(time_max - time_min) + time_min\n",
    "y_predicted = y_predicted_scaled*(chlorophylla_max - chlorophylla_min) + chlorophylla_min"
   ]
  },
  {
   "cell_type": "code",
   "execution_count": 3,
   "id": "6533aada",
   "metadata": {},
   "outputs": [
    {
     "data": {
      "image/png": "[encoded data removed]",
      "text/plain": [
       "<Figure size 1080x360 with 1 Axes>"
      ]
     },
     "metadata": {
      "needs_background": "light"
     },
     "output_type": "display_data"
    }
   ],
   "source": [
    "# Display the result\n",
    "import matplotlib.pylab as pylab\n",
    "params = {'legend.fontsize': 'x-large',\n",
    "          'figure.figsize': (15, 5),\n",
    "         'axes.labelsize': 'x-large',\n",
    "         'axes.titlesize':'x-large',\n",
    "         'xtick.labelsize':'x-large',\n",
    "         'ytick.labelsize':'x-large'}\n",
    "pylab.rcParams.update(params)\n",
    "plt.scatter(time*(time_max - time_min) + time_min, chlorophylla*(chlorophylla_max - chlorophylla_min) + chlorophylla_min, label='Original Data')\n",
    "plt.scatter(newtimepoints, y_predicted, c = 'red', s = 1, label = 'Interpolated Data')\n",
    "plt.xlabel('Time')\n",
    "plt.ylabel('Chlorophyll-a')\n",
    "plt.legend()\n",
    "plt.show()"
   ]
  },
  {
   "cell_type": "code",
   "execution_count": 4,
   "id": "a9886023",
   "metadata": {},
   "outputs": [
    {
     "name": "stdout",
     "output_type": "stream",
     "text": [
      "313/313 [==============================] - 0s 368us/step - loss: 2.1103e-16\n",
      "['loss']\n"
     ]
    }
   ],
   "source": [
    "model.evaluate(newtimepoints_scaled, y_predicted_scaled, batch_size=32)\n",
    "print(model.metrics_names)"
   ]
  },
  {
   "cell_type": "code",
   "execution_count": 5,
   "id": "1f013ec8",
   "metadata": {},
   "outputs": [
    {
     "data": {
      "text/plain": [
       "array([[0.23604143],\n",
       "       [0.23166317],\n",
       "       [0.22862363],\n",
       "       [0.22596222],\n",
       "       [0.22220221],\n",
       "       [0.2176519 ],\n",
       "       [0.2131511 ],\n",
       "       [0.21128228],\n",
       "       [0.21236578],\n",
       "       [0.21402064],\n",
       "       [0.21455505],\n",
       "       [0.21563014],\n",
       "       [0.21675318],\n",
       "       [0.21785256],\n",
       "       [0.21892029],\n",
       "       [0.21891758],\n",
       "       [0.21891618],\n",
       "       [0.21891484],\n",
       "       [0.2189121 ],\n",
       "       [0.21890932],\n",
       "       [0.27474612],\n",
       "       [0.28346765],\n",
       "       [0.30067194],\n",
       "       [0.30200988],\n",
       "       [0.30339247]], dtype=float32)"
      ]
     },
     "execution_count": 5,
     "metadata": {},
     "output_type": "execute_result"
    }
   ],
   "source": [
    "interpolation = model.predict([0.078681444\n",
    ",0.084797656\n",
    ",0.091121198\n",
    ",0.097444739\n",
    ",0.103768281\n",
    ",0.110091822\n",
    ",0.116519029\n",
    ",0.122635241\n",
    ",0.128958783\n",
    ",0.138495927\n",
    ",0.141605866\n",
    ",0.147929407\n",
    ",0.154356613\n",
    ",0.160472826\n",
    ",0.166796367\n",
    ",0.173119909\n",
    ",0.176333512\n",
    ",0.179443451\n",
    ",0.185766992\n",
    ",0.192194198\n",
    ",0.801016489\n",
    ",0.895765948\n",
    ",0.955684096\n",
    ",0.958794035\n",
    ",0.962007638\n",
    "])\n",
    "interpolation"
   ]
  },
  {
   "cell_type": "code",
   "execution_count": null,
   "id": "bd79dcd6",
   "metadata": {},
   "outputs": [],
   "source": []
  }
 ],
 "metadata": {
  "kernelspec": {
   "display_name": "Python 3",
   "language": "python",
   "name": "python3"
  },
  "language_info": {
   "codemirror_mode": {
    "name": "ipython",
    "version": 3
   },
   "file_extension": ".py",
   "mimetype": "text/x-python",
   "name": "python",
   "nbconvert_exporter": "python",
   "pygments_lexer": "ipython3",
   "version": "3.8.8"
  }
 },
 "nbformat": 4,
 "nbformat_minor": 5
}
