{
 "cells": [
  {
   "cell_type": "code",
   "execution_count": 1,
   "id": "c840e9c9",
   "metadata": {},
   "outputs": [
    {
     "name": "stdout",
     "output_type": "stream",
     "text": [
      "Model: \"sequential_4\"\n",
      "_________________________________________________________________\n",
      "Layer (type)                 Output Shape              Param #   \n",
      "=================================================================\n",
      "dense_28 (Dense)             (None, 1)                 2         \n",
      "_________________________________________________________________\n",
      "dense_29 (Dense)             (None, 128)               256       \n",
      "_________________________________________________________________\n",
      "dense_30 (Dense)             (None, 64)                8256      \n",
      "_________________________________________________________________\n",
      "dense_31 (Dense)             (None, 32)                2080      \n",
      "_________________________________________________________________\n",
      "dense_32 (Dense)             (None, 64)                2112      \n",
      "_________________________________________________________________\n",
      "dense_33 (Dense)             (None, 128)               8320      \n",
      "_________________________________________________________________\n",
      "dense_34 (Dense)             (None, 1)                 129       \n",
      "=================================================================\n",
      "Total params: 21,155\n",
      "Trainable params: 21,155\n",
      "Non-trainable params: 0\n",
      "_________________________________________________________________\n"
     ]
    }
   ],
   "source": [
    "import glob\n",
    "import numpy as np\n",
    "import matplotlib.pyplot as plt\n",
    "import pandas as pd\n",
    "import numpy as np\n",
    "import sklearn\n",
    "import tensorflow as tf\n",
    "model = tf.keras.models.load_model('saved_model/my_modelCD01A')\n",
    "\n",
    "# Check its architecture\n",
    "model.summary()"
   ]
  },
  {
   "cell_type": "code",
   "execution_count": 2,
   "id": "1b40f921",
   "metadata": {},
   "outputs": [
    {
     "data": {
      "image/png": "[encoded data removed]",
      "text/plain": [
       "<Figure size 1080x360 with 1 Axes>"
      ]
     },
     "metadata": {
      "needs_background": "light"
     },
     "output_type": "display_data"
    },
    {
     "name": "stdout",
     "output_type": "stream",
     "text": [
      "313/313 [==============================] - 0s 333us/step - loss: 9.9240e-18\n",
      "['loss']\n"
     ]
    },
    {
     "data": {
      "text/plain": [
       "array([[0.04144381],\n",
       "       [0.0435987 ],\n",
       "       [0.08170469],\n",
       "       [0.14704148],\n",
       "       [0.16656342],\n",
       "       [0.14676581],\n",
       "       [0.12255489],\n",
       "       [0.0992893 ],\n",
       "       [0.07523502],\n",
       "       [0.05187467],\n",
       "       [0.04463973],\n",
       "       [0.0418184 ],\n",
       "       [0.03895082],\n",
       "       [0.03703996],\n",
       "       [0.03735296],\n",
       "       [0.03781304],\n",
       "       [0.03827311],\n",
       "       [0.03871824],\n",
       "       [0.0391177 ],\n",
       "       [0.04676943],\n",
       "       [0.05106781],\n",
       "       [0.08672482],\n",
       "       [0.08691974],\n",
       "       [0.08712116]], dtype=float32)"
      ]
     },
     "execution_count": 2,
     "metadata": {},
     "output_type": "execute_result"
    }
   ],
   "source": [
    "df = pd.read_csv(\"C:/Users/yanzh/Desktop/chloro_data/CD01A.csv\")\n",
    "time = df['time'].values\n",
    "chlorophylla = df['chlorophylla'].values\n",
    "df\n",
    "#Transform the normalized scale to real scale\n",
    "chlorophylla_min = 0.16\n",
    "chlorophylla_max = 10.43\n",
    "time_min = 35439.00    \n",
    "time_max = 44357.44      \n",
    "\n",
    "newtimepoints_scaled = np.linspace(time[0] - (time[1] - time[0]),time[-1], 10000)\n",
    "y_predicted_scaled = model.predict(newtimepoints_scaled)\n",
    "\n",
    "newtimepoints = newtimepoints_scaled*(time_max - time_min) + time_min\n",
    "y_predicted = y_predicted_scaled*(chlorophylla_max - chlorophylla_min) + chlorophylla_min\n",
    "# Display the result\n",
    "import matplotlib.pylab as pylab\n",
    "params = {'legend.fontsize': 'x-large',\n",
    "          'figure.figsize': (15, 5),\n",
    "         'axes.labelsize': 'x-large',\n",
    "         'axes.titlesize':'x-large',\n",
    "         'xtick.labelsize':'x-large',\n",
    "         'ytick.labelsize':'x-large'}\n",
    "pylab.rcParams.update(params)\n",
    "plt.scatter(time*(time_max - time_min) + time_min, chlorophylla*(chlorophylla_max - chlorophylla_min) + chlorophylla_min, label='Original Data')\n",
    "plt.scatter(newtimepoints, y_predicted, c = 'red', s = 1, label = 'Interpolated Data')\n",
    "plt.xlabel('Time')\n",
    "plt.ylabel('Chlorophyll-a')\n",
    "plt.legend()\n",
    "plt.show()\n",
    "model.evaluate(newtimepoints_scaled, y_predicted_scaled, batch_size=32)\n",
    "print(model.metrics_names)\n",
    "interpolation = model.predict([0.003363818\n",
    ",0.009979327\n",
    ",0.01681909\n",
    ",0.023658853\n",
    ",0.030498616\n",
    ",0.037338379\n",
    ",0.044290269\n",
    ",0.050905778\n",
    ",0.057745541\n",
    ",0.064585304\n",
    ",0.071425067\n",
    ",0.078264831\n",
    ",0.085216721\n",
    ",0.09183223\n",
    ",0.098671993\n",
    ",0.105511756\n",
    ",0.112351519\n",
    ",0.119191282\n",
    ",0.126143173\n",
    ",0.238718946\n",
    ",0.265853744\n",
    ",0.951960475\n",
    ",0.955324293\n",
    ",0.958800238\n",
    "])\n",
    "interpolation"
   ]
  },
  {
   "cell_type": "code",
   "execution_count": null,
   "id": "e9b5eebd",
   "metadata": {},
   "outputs": [],
   "source": []
  }
 ],
 "metadata": {
  "kernelspec": {
   "display_name": "Python 3",
   "language": "python",
   "name": "python3"
  },
  "language_info": {
   "codemirror_mode": {
    "name": "ipython",
    "version": 3
   },
   "file_extension": ".py",
   "mimetype": "text/x-python",
   "name": "python",
   "nbconvert_exporter": "python",
   "pygments_lexer": "ipython3",
   "version": "3.8.8"
  }
 },
 "nbformat": 4,
 "nbformat_minor": 5
}
