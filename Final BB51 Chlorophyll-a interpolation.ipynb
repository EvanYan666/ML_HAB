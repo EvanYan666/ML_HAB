{
 "cells": [
  {
   "cell_type": "code",
   "execution_count": 1,
   "id": "9da9027e",
   "metadata": {},
   "outputs": [
    {
     "name": "stdout",
     "output_type": "stream",
     "text": [
      "Model: \"sequential_1\"\n",
      "_________________________________________________________________\n",
      "Layer (type)                 Output Shape              Param #   \n",
      "=================================================================\n",
      "dense_7 (Dense)              (None, 1)                 2         \n",
      "_________________________________________________________________\n",
      "dense_8 (Dense)              (None, 64)                128       \n",
      "_________________________________________________________________\n",
      "dense_9 (Dense)              (None, 32)                2080      \n",
      "_________________________________________________________________\n",
      "dense_10 (Dense)             (None, 16)                528       \n",
      "_________________________________________________________________\n",
      "dense_11 (Dense)             (None, 32)                544       \n",
      "_________________________________________________________________\n",
      "dense_12 (Dense)             (None, 64)                2112      \n",
      "_________________________________________________________________\n",
      "dense_13 (Dense)             (None, 1)                 65        \n",
      "=================================================================\n",
      "Total params: 5,459\n",
      "Trainable params: 5,459\n",
      "Non-trainable params: 0\n",
      "_________________________________________________________________\n"
     ]
    }
   ],
   "source": [
    "import glob\n",
    "import numpy as np\n",
    "import matplotlib.pyplot as plt\n",
    "import pandas as pd\n",
    "import numpy as np\n",
    "import sklearn\n",
    "import tensorflow as tf\n",
    "model = tf.keras.models.load_model('saved_model/my_modelBB51')\n",
    "\n",
    "# Check its architecture\n",
    "model.summary()"
   ]
  },
  {
   "cell_type": "code",
   "execution_count": 2,
   "id": "482eac8c",
   "metadata": {},
   "outputs": [
    {
     "data": {
      "image/png": "[encoded data removed]",
      "text/plain": [
       "<Figure size 1080x360 with 1 Axes>"
      ]
     },
     "metadata": {
      "needs_background": "light"
     },
     "output_type": "display_data"
    },
    {
     "name": "stdout",
     "output_type": "stream",
     "text": [
      "313/313 [==============================] - 0s 330us/step - loss: 1.5905e-16\n",
      "['loss']\n"
     ]
    },
    {
     "data": {
      "text/plain": [
       "array([[0.02877634],\n",
       "       [0.02480697],\n",
       "       [0.02443279],\n",
       "       [0.02423095],\n",
       "       [0.02415879],\n",
       "       [0.02408664],\n",
       "       [0.02401331],\n",
       "       [0.02394351],\n",
       "       [0.02387023],\n",
       "       [0.02359254],\n",
       "       [0.02315483],\n",
       "       [0.02267619],\n",
       "       [0.02220093],\n",
       "       [0.02183231],\n",
       "       [0.02145121],\n",
       "       [0.02097923],\n",
       "       [0.02018359],\n",
       "       [0.01933436],\n",
       "       [0.01846721],\n",
       "       [0.03173164],\n",
       "       [0.03152814],\n",
       "       [0.03131783]], dtype=float32)"
      ]
     },
     "execution_count": 2,
     "metadata": {},
     "output_type": "execute_result"
    }
   ],
   "source": [
    "df = pd.read_csv(\"C:/Users/yanzh/Desktop/chloro_data/BB51.csv\")\n",
    "time = df['time'].values\n",
    "chlorophylla = df['chlorophylla'].values\n",
    "df\n",
    "#Transform the normalized scale to real scale\n",
    "chlorophylla_min = 0.08\n",
    "chlorophylla_max = 12.12\n",
    "time_min = 34710.00   \n",
    "time_max = 44356.42     \n",
    "\n",
    "newtimepoints_scaled = np.linspace(time[0] - (time[1] - time[0]),time[-1], 10000)\n",
    "y_predicted_scaled = model.predict(newtimepoints_scaled)\n",
    "\n",
    "newtimepoints = newtimepoints_scaled*(time_max - time_min) + time_min\n",
    "y_predicted = y_predicted_scaled*(chlorophylla_max - chlorophylla_min) + chlorophylla_min\n",
    "# Display the result\n",
    "import matplotlib.pylab as pylab\n",
    "params = {'legend.fontsize': 'x-large',\n",
    "          'figure.figsize': (15, 5),\n",
    "         'axes.labelsize': 'x-large',\n",
    "         'axes.titlesize':'x-large',\n",
    "         'xtick.labelsize':'x-large',\n",
    "         'ytick.labelsize':'x-large'}\n",
    "pylab.rcParams.update(params)\n",
    "plt.scatter(time*(time_max - time_min) + time_min, chlorophylla*(chlorophylla_max - chlorophylla_min) + chlorophylla_min, label='Original Data')\n",
    "plt.scatter(newtimepoints, y_predicted, c = 'red', s = 1, label = 'Interpolated Data')\n",
    "plt.xlabel('Time')\n",
    "plt.ylabel('Chlorophyll-a')\n",
    "plt.legend()\n",
    "plt.show()\n",
    "model.evaluate(newtimepoints_scaled, y_predicted_scaled, batch_size=32)\n",
    "print(model.metrics_names)\n",
    "interpolation = model.predict([0.040740502\n",
    ",0.078682038\n",
    ",0.084798297\n",
    ",0.097445476\n",
    ",0.103769065\n",
    ",0.110092655\n",
    ",0.116519909\n",
    ",0.122636168\n",
    ",0.128959757\n",
    ",0.135283347\n",
    ",0.141606936\n",
    ",0.147930525\n",
    ",0.15435778\n",
    ",0.160474039\n",
    ",0.166797628\n",
    ",0.173121218\n",
    ",0.179444807\n",
    ",0.185768396\n",
    ",0.192195651\n",
    ",0.95569132\n",
    ",0.958801282\n",
    ",0.96201491\n",
    "\n",
    "])\n",
    "interpolation"
   ]
  },
  {
   "cell_type": "code",
   "execution_count": null,
   "id": "05d07bba",
   "metadata": {},
   "outputs": [],
   "source": []
  }
 ],
 "metadata": {
  "kernelspec": {
   "display_name": "Python 3",
   "language": "python",
   "name": "python3"
  },
  "language_info": {
   "codemirror_mode": {
    "name": "ipython",
    "version": 3
   },
   "file_extension": ".py",
   "mimetype": "text/x-python",
   "name": "python",
   "nbconvert_exporter": "python",
   "pygments_lexer": "ipython3",
   "version": "3.8.8"
  }
 },
 "nbformat": 4,
 "nbformat_minor": 5
}
