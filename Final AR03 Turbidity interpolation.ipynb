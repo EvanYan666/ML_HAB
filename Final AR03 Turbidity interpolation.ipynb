{
 "cells": [
  {
   "cell_type": "code",
   "execution_count": 2,
   "id": "20e4efc8",
   "metadata": {},
   "outputs": [
    {
     "name": "stdout",
     "output_type": "stream",
     "text": [
      "Model: \"sequential_1\"\n",
      "_________________________________________________________________\n",
      "Layer (type)                 Output Shape              Param #   \n",
      "=================================================================\n",
      "dense_7 (Dense)              (None, 1)                 2         \n",
      "_________________________________________________________________\n",
      "dense_8 (Dense)              (None, 64)                128       \n",
      "_________________________________________________________________\n",
      "dense_9 (Dense)              (None, 32)                2080      \n",
      "_________________________________________________________________\n",
      "dense_10 (Dense)             (None, 16)                528       \n",
      "_________________________________________________________________\n",
      "dense_11 (Dense)             (None, 32)                544       \n",
      "_________________________________________________________________\n",
      "dense_12 (Dense)             (None, 64)                2112      \n",
      "_________________________________________________________________\n",
      "dense_13 (Dense)             (None, 1)                 65        \n",
      "=================================================================\n",
      "Total params: 5,459\n",
      "Trainable params: 5,459\n",
      "Non-trainable params: 0\n",
      "_________________________________________________________________\n"
     ]
    },
    {
     "data": {
      "image/png": "[encoded data removed]",
      "text/plain": [
       "<Figure size 1080x360 with 1 Axes>"
      ]
     },
     "metadata": {
      "needs_background": "light"
     },
     "output_type": "display_data"
    },
    {
     "name": "stdout",
     "output_type": "stream",
     "text": [
      "313/313 [==============================] - 0s 349us/step - loss: 1.1901e-16\n",
      "['loss']\n"
     ]
    }
   ],
   "source": [
    "import glob\n",
    "import numpy as np\n",
    "import matplotlib.pyplot as plt\n",
    "import pandas as pd\n",
    "import numpy as np\n",
    "import sklearn\n",
    "import tensorflow as tf\n",
    "model = tf.keras.models.load_model('C:/Users/yanzh/Interpolation/Turbidity/saved_model/my_modelAR03_Turbidity')\n",
    "\n",
    "# Check its architecture\n",
    "model.summary()\n",
    "\n",
    "df = pd.read_csv(\"C:/Users/yanzh/Desktop/Turbidity_data/AR03.csv\")\n",
    "time = df['time'].values\n",
    "turbidity = df['turbidity'].values\n",
    "df\n",
    "\n",
    "#Transform the normalized scale to real scale\n",
    "turbidity_min = 0.1\n",
    "turbidity_max = 12.5\n",
    "time_min = 34710.00               \n",
    "time_max = 44356.37                      \n",
    "\n",
    "newtimepoints_scaled = np.linspace(time[0] - (time[1] - time[0]),time[-1], 10000)\n",
    "y_predicted_scaled = model.predict(newtimepoints_scaled)\n",
    "\n",
    "newtimepoints = newtimepoints_scaled*(time_max - time_min) + time_min\n",
    "y_predicted = y_predicted_scaled*(turbidity_max - turbidity_min) + turbidity_min\n",
    "\n",
    "# Display the result\n",
    "import matplotlib.pylab as pylab\n",
    "params = {'legend.fontsize': 'x-large',\n",
    "          'figure.figsize': (15, 5),\n",
    "         'axes.labelsize': 'x-large',\n",
    "         'axes.titlesize':'x-large',\n",
    "         'xtick.labelsize':'x-large',\n",
    "         'ytick.labelsize':'x-large'}\n",
    "pylab.rcParams.update(params)\n",
    "plt.scatter(time*(time_max - time_min) + time_min, turbidity*(turbidity_max - turbidity_min) + turbidity_min, label='Original Data')\n",
    "plt.scatter(newtimepoints, y_predicted, c = 'red', s = 1, label = 'Interpolated Data')\n",
    "plt.xlabel('Time')\n",
    "plt.ylabel('Turbidity')\n",
    "plt.legend()\n",
    "plt.show()\n",
    "\n",
    "model.evaluate(newtimepoints_scaled, y_predicted_scaled, batch_size=32)\n",
    "print(model.metrics_names)"
   ]
  },
  {
   "cell_type": "code",
   "execution_count": 3,
   "id": "e26836ee",
   "metadata": {},
   "outputs": [
    {
     "data": {
      "text/plain": [
       "array([[0.0239613 ],\n",
       "       [0.05517469],\n",
       "       [0.11164099],\n",
       "       [0.13492522],\n",
       "       [0.0887804 ],\n",
       "       [0.05707501],\n",
       "       [0.05165211],\n",
       "       [0.05342346],\n",
       "       [0.05546058],\n",
       "       [0.05770611],\n",
       "       [0.06052266],\n",
       "       [0.062362  ],\n",
       "       [0.06334403],\n",
       "       [0.06396548],\n",
       "       [0.06380405],\n",
       "       [0.06310208],\n",
       "       [0.06222396],\n",
       "       [0.06121472],\n",
       "       [0.06055505],\n",
       "       [0.05156942],\n",
       "       [0.05148896],\n",
       "       [0.05140295],\n",
       "       [0.05131974],\n",
       "       [0.05123373],\n",
       "       [0.0511505 ],\n",
       "       [0.05106451],\n",
       "       [0.05097852],\n",
       "       [0.05089526],\n",
       "       [0.05080928],\n",
       "       [0.05072604],\n",
       "       [0.06225043],\n",
       "       [0.06276411],\n",
       "       [0.06329492]], dtype=float32)"
      ]
     },
     "execution_count": 3,
     "metadata": {},
     "output_type": "execute_result"
    }
   ],
   "source": [
    "interpolation = model.predict([0.043643369\n",
    ",0.078578797\n",
    ",0.084695089\n",
    ",0.097342336\n",
    ",0.103665959\n",
    ",0.109989583\n",
    ",0.116416872\n",
    ",0.122533164\n",
    ",0.128856788\n",
    ",0.135180411\n",
    ",0.141504035\n",
    ",0.147827658\n",
    ",0.154254948\n",
    ",0.160371239\n",
    ",0.166694863\n",
    ",0.173018486\n",
    ",0.17934211\n",
    ",0.185665733\n",
    ",0.192093023\n",
    ",0.646460923\n",
    ",0.649467236\n",
    ",0.652680881\n",
    ",0.65579086\n",
    ",0.659004504\n",
    ",0.662114483\n",
    ",0.665328128\n",
    ",0.668541773\n",
    ",0.671651751\n",
    ",0.674865396\n",
    ",0.677975375\n",
    ",0.955592815\n",
    ",0.958702793\n",
    ",0.961916438\n",
    "])\n",
    "interpolation"
   ]
  },
  {
   "cell_type": "code",
   "execution_count": null,
   "id": "29bc4b5a",
   "metadata": {},
   "outputs": [],
   "source": []
  }
 ],
 "metadata": {
  "kernelspec": {
   "display_name": "Python 3",
   "language": "python",
   "name": "python3"
  },
  "language_info": {
   "codemirror_mode": {
    "name": "ipython",
    "version": 3
   },
   "file_extension": ".py",
   "mimetype": "text/x-python",
   "name": "python",
   "nbconvert_exporter": "python",
   "pygments_lexer": "ipython3",
   "version": "3.8.8"
  }
 },
 "nbformat": 4,
 "nbformat_minor": 5
}
