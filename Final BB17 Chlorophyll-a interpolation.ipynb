{
 "cells": [
  {
   "cell_type": "code",
   "execution_count": 2,
   "id": "f18a8dfd",
   "metadata": {},
   "outputs": [
    {
     "name": "stdout",
     "output_type": "stream",
     "text": [
      "Model: \"sequential_7\"\n",
      "_________________________________________________________________\n",
      "Layer (type)                 Output Shape              Param #   \n",
      "=================================================================\n",
      "dense_49 (Dense)             (None, 1)                 2         \n",
      "_________________________________________________________________\n",
      "dense_50 (Dense)             (None, 128)               256       \n",
      "_________________________________________________________________\n",
      "dense_51 (Dense)             (None, 64)                8256      \n",
      "_________________________________________________________________\n",
      "dense_52 (Dense)             (None, 32)                2080      \n",
      "_________________________________________________________________\n",
      "dense_53 (Dense)             (None, 64)                2112      \n",
      "_________________________________________________________________\n",
      "dense_54 (Dense)             (None, 128)               8320      \n",
      "_________________________________________________________________\n",
      "dense_55 (Dense)             (None, 1)                 129       \n",
      "=================================================================\n",
      "Total params: 21,155\n",
      "Trainable params: 21,155\n",
      "Non-trainable params: 0\n",
      "_________________________________________________________________\n"
     ]
    }
   ],
   "source": [
    "import glob\n",
    "import numpy as np\n",
    "import matplotlib.pyplot as plt\n",
    "import pandas as pd\n",
    "import numpy as np\n",
    "import sklearn\n",
    "import tensorflow as tf\n",
    "model = tf.keras.models.load_model('saved_model/my_model')\n",
    "\n",
    "# Check its architecture\n",
    "model.summary()"
   ]
  },
  {
   "cell_type": "code",
   "execution_count": 9,
   "id": "dde6cd5e",
   "metadata": {
    "scrolled": true
   },
   "outputs": [],
   "source": [
    "df = pd.read_csv(\"C:/Users/yanzh/Desktop/BB17.csv\")\n",
    "time = df['Time'].values\n",
    "chlorophylla = df['Chlorophylla'].values\n",
    "df\n",
    "\n",
    "#Transform the normalized scale to real scale\n",
    "chlorophylla_min = 0.125\n",
    "chlorophylla_max = 10.77\n",
    "\n",
    "newtimepoints_scaled = np.linspace(time[0] - (time[1] - time[0]),time[-1], 10000)\n",
    "y_predicted_scaled = model.predict(newtimepoints_scaled)\n",
    "\n",
    "newtimepoints = newtimepoints_scaled*(44355.4097222222 - 34709.00) + 34709.00\n",
    "y_predicted = y_predicted_scaled*(chlorophylla_max - chlorophylla_min) + chlorophylla_min"
   ]
  },
  {
   "cell_type": "code",
   "execution_count": 10,
   "id": "25299f92",
   "metadata": {},
   "outputs": [
    {
     "data": {
      "image/png": "[encoded data removed]",
      "text/plain": [
       "<Figure size 1080x360 with 1 Axes>"
      ]
     },
     "metadata": {
      "needs_background": "light"
     },
     "output_type": "display_data"
    }
   ],
   "source": [
    "# Display the result\n",
    "import matplotlib.pylab as pylab\n",
    "params = {'legend.fontsize': 'x-large',\n",
    "          'figure.figsize': (15, 5),\n",
    "         'axes.labelsize': 'x-large',\n",
    "         'axes.titlesize':'x-large',\n",
    "         'xtick.labelsize':'x-large',\n",
    "         'ytick.labelsize':'x-large'}\n",
    "pylab.rcParams.update(params)\n",
    "plt.scatter(time*(44355.4097222222 - 34709.00) + 34709.00, chlorophylla*(10.77 - 0.125) + 0.125, label='Original Data')\n",
    "plt.scatter(newtimepoints, y_predicted, c = 'red', s = 1, label = 'Interpolated Data')\n",
    "plt.xlabel('Time')\n",
    "plt.ylabel('Chlorophyll-a')\n",
    "plt.legend()\n",
    "plt.show()"
   ]
  },
  {
   "cell_type": "code",
   "execution_count": 12,
   "id": "16d1c96e",
   "metadata": {
    "scrolled": true
   },
   "outputs": [
    {
     "name": "stdout",
     "output_type": "stream",
     "text": [
      "313/313 [==============================] - 0s 333us/step - loss: 5.6609e-17\n",
      "['loss']\n"
     ]
    }
   ],
   "source": [
    "model.evaluate(newtimepoints_scaled, y_predicted_scaled, batch_size=32)\n",
    "print(model.metrics_names)"
   ]
  },
  {
   "cell_type": "code",
   "execution_count": 13,
   "id": "e3d309fd",
   "metadata": {},
   "outputs": [
    {
     "data": {
      "text/plain": [
       "array([[0.07159985],\n",
       "       [0.06924208],\n",
       "       [0.06810406],\n",
       "       [0.06684305],\n",
       "       [0.06573614],\n",
       "       [0.06511047],\n",
       "       [0.06447499],\n",
       "       [0.06390619],\n",
       "       [0.06334412],\n",
       "       [0.06285036],\n",
       "       [0.06506377],\n",
       "       [0.0687179 ],\n",
       "       [0.0748723 ],\n",
       "       [0.09562138],\n",
       "       [0.15370284],\n",
       "       [0.21356192],\n",
       "       [0.23328893],\n",
       "       [0.2187964 ],\n",
       "       [0.19319665]], dtype=float32)"
      ]
     },
     "execution_count": 13,
     "metadata": {},
     "output_type": "execute_result"
    }
   ],
   "source": [
    "interpolation = model.predict([0.078682123\n",
    ",0.084798389\n",
    ",0.091121985\n",
    ",0.097445581\n",
    ",0.103769177\n",
    ",0.110092773\n",
    ",0.116520035\n",
    ",0.1226363\n",
    ",0.128959897\n",
    ",0.135283493\n",
    ",0.141607089\n",
    ",0.147930685\n",
    ",0.154357947\n",
    ",0.160474212\n",
    ",0.166797808\n",
    ",0.173121405\n",
    ",0.179445001\n",
    ",0.185768597\n",
    ",0.192195859\n",
    "]\n",
    ")\n",
    "interpolation"
   ]
  },
  {
   "cell_type": "code",
   "execution_count": null,
   "id": "531e65ce",
   "metadata": {},
   "outputs": [],
   "source": []
  }
 ],
 "metadata": {
  "kernelspec": {
   "display_name": "Python 3",
   "language": "python",
   "name": "python3"
  },
  "language_info": {
   "codemirror_mode": {
    "name": "ipython",
    "version": 3
   },
   "file_extension": ".py",
   "mimetype": "text/x-python",
   "name": "python",
   "nbconvert_exporter": "python",
   "pygments_lexer": "ipython3",
   "version": "3.8.8"
  }
 },
 "nbformat": 4,
 "nbformat_minor": 5
}
