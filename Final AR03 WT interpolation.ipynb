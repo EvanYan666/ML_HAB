{
 "cells": [
  {
   "cell_type": "code",
   "execution_count": 4,
   "id": "cc3aac08",
   "metadata": {},
   "outputs": [
    {
     "name": "stdout",
     "output_type": "stream",
     "text": [
      "Model: \"sequential_3\"\n",
      "_________________________________________________________________\n",
      "Layer (type)                 Output Shape              Param #   \n",
      "=================================================================\n",
      "dense_21 (Dense)             (None, 1)                 2         \n",
      "_________________________________________________________________\n",
      "dense_22 (Dense)             (None, 64)                128       \n",
      "_________________________________________________________________\n",
      "dense_23 (Dense)             (None, 32)                2080      \n",
      "_________________________________________________________________\n",
      "dense_24 (Dense)             (None, 16)                528       \n",
      "_________________________________________________________________\n",
      "dense_25 (Dense)             (None, 32)                544       \n",
      "_________________________________________________________________\n",
      "dense_26 (Dense)             (None, 64)                2112      \n",
      "_________________________________________________________________\n",
      "dense_27 (Dense)             (None, 1)                 65        \n",
      "=================================================================\n",
      "Total params: 5,459\n",
      "Trainable params: 5,459\n",
      "Non-trainable params: 0\n",
      "_________________________________________________________________\n"
     ]
    },
    {
     "data": {
      "image/png": "[encoded data removed]",
      "text/plain": [
       "<Figure size 1080x360 with 1 Axes>"
      ]
     },
     "metadata": {
      "needs_background": "light"
     },
     "output_type": "display_data"
    },
    {
     "name": "stdout",
     "output_type": "stream",
     "text": [
      "313/313 [==============================] - 0s 369us/step - loss: 9.3330e-16\n",
      "['loss']\n"
     ]
    }
   ],
   "source": [
    "import glob\n",
    "import numpy as np\n",
    "import matplotlib.pyplot as plt\n",
    "import pandas as pd\n",
    "import numpy as np\n",
    "import sklearn\n",
    "import tensorflow as tf\n",
    "model = tf.keras.models.load_model('C:/Users/yanzh/Interpolation/Water temperature/saved_model/my_modelAR03_WT')\n",
    "\n",
    "# Check its architecture\n",
    "model.summary()\n",
    "\n",
    "df = pd.read_csv(\"C:/Users/yanzh/Desktop/WT_data/AR03.csv\")\n",
    "time = df['time'].values\n",
    "WT = df['WT'].values\n",
    "df\n",
    "\n",
    "#Transform the normalized scale to real scale\n",
    "WT_min = 17.16\n",
    "WT_max = 31.68666667\n",
    "time_min = 34710.00                \n",
    "time_max = 44356.37                     \n",
    "\n",
    "newtimepoints_scaled = np.linspace(time[0] - (time[1] - time[0]),time[-1], 10000)\n",
    "y_predicted_scaled = model.predict(newtimepoints_scaled)\n",
    "\n",
    "newtimepoints = newtimepoints_scaled*(time_max - time_min) + time_min\n",
    "y_predicted = y_predicted_scaled*(WT_max - WT_min) + WT_min\n",
    "\n",
    "# Display the result\n",
    "import matplotlib.pylab as pylab\n",
    "params = {'legend.fontsize': 'x-large',\n",
    "          'figure.figsize': (15, 5),\n",
    "         'axes.labelsize': 'x-large',\n",
    "         'axes.titlesize':'x-large',\n",
    "         'xtick.labelsize':'x-large',\n",
    "         'ytick.labelsize':'x-large'}\n",
    "pylab.rcParams.update(params)\n",
    "plt.scatter(time*(time_max - time_min) + time_min, WT*(WT_max - WT_min) + WT_min, label='Original Data')\n",
    "plt.scatter(newtimepoints, y_predicted, c = 'red', s = 1, label = 'Interpolated Data')\n",
    "plt.xlabel('Time')\n",
    "plt.ylabel('pH')\n",
    "plt.legend()\n",
    "plt.show()\n",
    "\n",
    "model.evaluate(newtimepoints_scaled, y_predicted_scaled, batch_size=32)\n",
    "print(model.metrics_names)"
   ]
  },
  {
   "cell_type": "code",
   "execution_count": 5,
   "id": "71acacf1",
   "metadata": {},
   "outputs": [
    {
     "data": {
      "text/plain": [
       "array([[0.5253338 ],\n",
       "       [0.55829275],\n",
       "       [0.571915  ],\n",
       "       [0.5927989 ],\n",
       "       [0.59320134],\n",
       "       [0.59363145],\n",
       "       [0.5940477 ],\n",
       "       [0.59447795],\n",
       "       [0.5953244 ],\n",
       "       [0.59575456],\n",
       "       [0.5961708 ],\n",
       "       [0.59660095],\n",
       "       [0.5970172 ],\n",
       "       [0.6074708 ],\n",
       "       [0.6073449 ],\n",
       "       [0.60721487]], dtype=float32)"
      ]
     },
     "execution_count": 5,
     "metadata": {},
     "output_type": "execute_result"
    }
   ],
   "source": [
    "interpolation = model.predict([0.012025251\n",
    ",0.043643369\n",
    ",0.4348787\n",
    ",0.646460923\n",
    ",0.649467236\n",
    ",0.652680881\n",
    ",0.65579086\n",
    ",0.659004504\n",
    ",0.665328128\n",
    ",0.668541773\n",
    ",0.671651751\n",
    ",0.674865396\n",
    ",0.677975375\n",
    ",0.955592815\n",
    ",0.958702793\n",
    ",0.961916438\n",
    "])\n",
    "interpolation"
   ]
  },
  {
   "cell_type": "code",
   "execution_count": null,
   "id": "2d73a91a",
   "metadata": {},
   "outputs": [],
   "source": []
  }
 ],
 "metadata": {
  "kernelspec": {
   "display_name": "Python 3",
   "language": "python",
   "name": "python3"
  },
  "language_info": {
   "codemirror_mode": {
    "name": "ipython",
    "version": 3
   },
   "file_extension": ".py",
   "mimetype": "text/x-python",
   "name": "python",
   "nbconvert_exporter": "python",
   "pygments_lexer": "ipython3",
   "version": "3.8.8"
  }
 },
 "nbformat": 4,
 "nbformat_minor": 5
}
