{
 "cells": [
  {
   "cell_type": "code",
   "execution_count": 1,
   "id": "b8afc8fd",
   "metadata": {},
   "outputs": [
    {
     "name": "stdout",
     "output_type": "stream",
     "text": [
      "Model: \"sequential\"\n",
      "_________________________________________________________________\n",
      "Layer (type)                 Output Shape              Param #   \n",
      "=================================================================\n",
      "dense (Dense)                (None, 1)                 2         \n",
      "_________________________________________________________________\n",
      "dense_1 (Dense)              (None, 64)                128       \n",
      "_________________________________________________________________\n",
      "dense_2 (Dense)              (None, 32)                2080      \n",
      "_________________________________________________________________\n",
      "dense_3 (Dense)              (None, 16)                528       \n",
      "_________________________________________________________________\n",
      "dense_4 (Dense)              (None, 32)                544       \n",
      "_________________________________________________________________\n",
      "dense_5 (Dense)              (None, 64)                2112      \n",
      "_________________________________________________________________\n",
      "dense_6 (Dense)              (None, 1)                 65        \n",
      "=================================================================\n",
      "Total params: 5,459\n",
      "Trainable params: 5,459\n",
      "Non-trainable params: 0\n",
      "_________________________________________________________________\n"
     ]
    },
    {
     "data": {
      "image/png": "[encoded data removed]",
      "text/plain": [
       "<Figure size 1080x360 with 1 Axes>"
      ]
     },
     "metadata": {
      "needs_background": "light"
     },
     "output_type": "display_data"
    },
    {
     "name": "stdout",
     "output_type": "stream",
     "text": [
      "313/313 [==============================] - 0s 346us/step - loss: 9.6204e-17\n",
      "['loss']\n"
     ]
    }
   ],
   "source": [
    "import glob\n",
    "import numpy as np\n",
    "import matplotlib.pyplot as plt\n",
    "import pandas as pd\n",
    "import numpy as np\n",
    "import sklearn\n",
    "import tensorflow as tf\n",
    "model = tf.keras.models.load_model('C:/Users/yanzh/Interpolation/Turbidity/saved_model/my_modelBB14_Turbidity')\n",
    "\n",
    "# Check its architecture\n",
    "model.summary()\n",
    "\n",
    "df = pd.read_csv(\"C:/Users/yanzh/Desktop/Turbidity_data/BB14.csv\")\n",
    "time = df['time'].values\n",
    "turbidity = df['turbidity'].values\n",
    "df\n",
    "\n",
    "#Transform the normalized scale to real scale\n",
    "turbidity_min = 0.1\n",
    "turbidity_max = 7.4\n",
    "time_min = 34708.00                \n",
    "time_max = 44354.39                          \n",
    "\n",
    "newtimepoints_scaled = np.linspace(time[0] - (time[1] - time[0]),time[-1], 10000)\n",
    "y_predicted_scaled = model.predict(newtimepoints_scaled)\n",
    "\n",
    "newtimepoints = newtimepoints_scaled*(time_max - time_min) + time_min\n",
    "y_predicted = y_predicted_scaled*(turbidity_max - turbidity_min) + turbidity_min\n",
    "\n",
    "# Display the result\n",
    "import matplotlib.pylab as pylab\n",
    "params = {'legend.fontsize': 'x-large',\n",
    "          'figure.figsize': (15, 5),\n",
    "         'axes.labelsize': 'x-large',\n",
    "         'axes.titlesize':'x-large',\n",
    "         'xtick.labelsize':'x-large',\n",
    "         'ytick.labelsize':'x-large'}\n",
    "pylab.rcParams.update(params)\n",
    "plt.scatter(time*(time_max - time_min) + time_min, turbidity*(turbidity_max - turbidity_min) + turbidity_min, label='Original Data')\n",
    "plt.scatter(newtimepoints, y_predicted, c = 'red', s = 1, label = 'Interpolated Data')\n",
    "plt.xlabel('Time')\n",
    "plt.ylabel('Turbidity')\n",
    "plt.legend()\n",
    "plt.show()\n",
    "\n",
    "model.evaluate(newtimepoints_scaled, y_predicted_scaled, batch_size=32)\n",
    "print(model.metrics_names)"
   ]
  },
  {
   "cell_type": "code",
   "execution_count": 2,
   "id": "13aaa722",
   "metadata": {},
   "outputs": [
    {
     "data": {
      "text/plain": [
       "array([[0.18968669],\n",
       "       [0.19480795],\n",
       "       [0.20680657],\n",
       "       [0.25761378],\n",
       "       [0.19476828],\n",
       "       [0.17300168],\n",
       "       [0.16277766],\n",
       "       [0.15419322],\n",
       "       [0.14655653],\n",
       "       [0.13480574],\n",
       "       [0.13097396],\n",
       "       [0.12318272],\n",
       "       [0.1154789 ],\n",
       "       [0.10840289],\n",
       "       [0.10108704],\n",
       "       [0.09377114],\n",
       "       [0.08645526],\n",
       "       [0.07913939],\n",
       "       [0.07170356],\n",
       "       [0.04205128],\n",
       "       [0.2233333 ],\n",
       "       [0.22452983],\n",
       "       [0.2257663 ]], dtype=float32)"
      ]
     },
     "execution_count": 2,
     "metadata": {},
     "output_type": "execute_result"
    }
   ],
   "source": [
    "interpolation = model.predict([0.078682322\n",
    ",0.084798602\n",
    ",0.091122214\n",
    ",0.097445827\n",
    ",0.103769439\n",
    ",0.110093051\n",
    ",0.116520329\n",
    ",0.122636609\n",
    ",0.128960221\n",
    ",0.138497473\n",
    ",0.141607446\n",
    ",0.147931058\n",
    ",0.154358336\n",
    ",0.160474616\n",
    ",0.166798229\n",
    ",0.173121841\n",
    ",0.179445453\n",
    ",0.185769065\n",
    ",0.192196343\n",
    ",0.375166432\n",
    ",0.95569476\n",
    ",0.958804734\n",
    ",0.962018373\n",
    "])\n",
    "interpolation"
   ]
  },
  {
   "cell_type": "code",
   "execution_count": null,
   "id": "5fa974aa",
   "metadata": {},
   "outputs": [],
   "source": []
  }
 ],
 "metadata": {
  "kernelspec": {
   "display_name": "Python 3",
   "language": "python",
   "name": "python3"
  },
  "language_info": {
   "codemirror_mode": {
    "name": "ipython",
    "version": 3
   },
   "file_extension": ".py",
   "mimetype": "text/x-python",
   "name": "python",
   "nbconvert_exporter": "python",
   "pygments_lexer": "ipython3",
   "version": "3.8.8"
  }
 },
 "nbformat": 4,
 "nbformat_minor": 5
}
