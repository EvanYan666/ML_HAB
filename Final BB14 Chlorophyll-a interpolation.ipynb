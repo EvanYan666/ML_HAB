{
 "cells": [
  {
   "cell_type": "code",
   "execution_count": 1,
   "id": "598e6ecf",
   "metadata": {},
   "outputs": [
    {
     "name": "stdout",
     "output_type": "stream",
     "text": [
      "Model: \"sequential\"\n",
      "_________________________________________________________________\n",
      "Layer (type)                 Output Shape              Param #   \n",
      "=================================================================\n",
      "dense (Dense)                (None, 1)                 2         \n",
      "_________________________________________________________________\n",
      "dense_1 (Dense)              (None, 64)                128       \n",
      "_________________________________________________________________\n",
      "dense_2 (Dense)              (None, 32)                2080      \n",
      "_________________________________________________________________\n",
      "dense_3 (Dense)              (None, 16)                528       \n",
      "_________________________________________________________________\n",
      "dense_4 (Dense)              (None, 32)                544       \n",
      "_________________________________________________________________\n",
      "dense_5 (Dense)              (None, 64)                2112      \n",
      "_________________________________________________________________\n",
      "dense_6 (Dense)              (None, 1)                 65        \n",
      "=================================================================\n",
      "Total params: 5,459\n",
      "Trainable params: 5,459\n",
      "Non-trainable params: 0\n",
      "_________________________________________________________________\n"
     ]
    }
   ],
   "source": [
    "import glob\n",
    "import numpy as np\n",
    "import matplotlib.pyplot as plt\n",
    "import pandas as pd\n",
    "import numpy as np\n",
    "import sklearn\n",
    "import tensorflow as tf\n",
    "model = tf.keras.models.load_model('saved_model/my_modelBB14')\n",
    "\n",
    "# Check its architecture\n",
    "model.summary()"
   ]
  },
  {
   "cell_type": "code",
   "execution_count": 2,
   "id": "02e8762a",
   "metadata": {},
   "outputs": [
    {
     "data": {
      "image/png": "[encoded data removed]",
      "text/plain": [
       "<Figure size 1080x360 with 1 Axes>"
      ]
     },
     "metadata": {
      "needs_background": "light"
     },
     "output_type": "display_data"
    }
   ],
   "source": [
    "df = pd.read_csv(\"C:/Users/yanzh/Desktop/chloro_data/BB14.csv\")\n",
    "time = df['time'].values\n",
    "chlorophylla = df['chlorophylla'].values\n",
    "df\n",
    "#Transform the normalized scale to real scale\n",
    "chlorophylla_min = 0.12\n",
    "chlorophylla_max = 7.3\n",
    "time_min = 34708\n",
    "time_max = 44354.38542\n",
    "\n",
    "newtimepoints_scaled = np.linspace(time[0] - (time[1] - time[0]),time[-1], 10000)\n",
    "y_predicted_scaled = model.predict(newtimepoints_scaled)\n",
    "\n",
    "newtimepoints = newtimepoints_scaled*(time_max - time_min) + time_min\n",
    "y_predicted = y_predicted_scaled*(chlorophylla_max - chlorophylla_min) + chlorophylla_min\n",
    "# Display the result\n",
    "import matplotlib.pylab as pylab\n",
    "params = {'legend.fontsize': 'x-large',\n",
    "          'figure.figsize': (15, 5),\n",
    "         'axes.labelsize': 'x-large',\n",
    "         'axes.titlesize':'x-large',\n",
    "         'xtick.labelsize':'x-large',\n",
    "         'ytick.labelsize':'x-large'}\n",
    "pylab.rcParams.update(params)\n",
    "plt.scatter(time*(time_max - time_min) + time_min, chlorophylla*(chlorophylla_max - chlorophylla_min) + chlorophylla_min, label='Original Data')\n",
    "plt.scatter(newtimepoints, y_predicted, c = 'red', s = 1, label = 'Interpolated Data')\n",
    "plt.xlabel('Time')\n",
    "plt.ylabel('Chlorophyll-a')\n",
    "plt.legend()\n",
    "plt.show()"
   ]
  },
  {
   "cell_type": "code",
   "execution_count": 3,
   "id": "8eee9af2",
   "metadata": {},
   "outputs": [
    {
     "name": "stdout",
     "output_type": "stream",
     "text": [
      "313/313 [==============================] - 0s 327us/step - loss: 6.0114e-17\n",
      "['loss']\n"
     ]
    },
    {
     "data": {
      "text/plain": [
       "array([[0.06467202],\n",
       "       [0.06671929],\n",
       "       [0.06895579],\n",
       "       [0.07119232],\n",
       "       [0.07147123],\n",
       "       [0.07148261],\n",
       "       [0.07182738],\n",
       "       [0.07219522],\n",
       "       [0.07258655],\n",
       "       [0.07315448],\n",
       "       [0.07333969],\n",
       "       [0.07371788],\n",
       "       [0.073965  ],\n",
       "       [0.07418028],\n",
       "       [0.07440285],\n",
       "       [0.07462543],\n",
       "       [0.07481077],\n",
       "       [0.07483308],\n",
       "       [0.07485577],\n",
       "       [0.07619289],\n",
       "       [0.07482143],\n",
       "       [0.08216984],\n",
       "       [0.21450973],\n",
       "       [0.19692731],\n",
       "       [0.1960729 ],\n",
       "       [0.19519004]], dtype=float32)"
      ]
     },
     "execution_count": 3,
     "metadata": {},
     "output_type": "execute_result"
    }
   ],
   "source": [
    "model.evaluate(newtimepoints_scaled, y_predicted_scaled, batch_size=32)\n",
    "print(model.metrics_names)\n",
    "interpolation = model.predict([0.078682322\n",
    ",0.084798602\n",
    ",0.091122214\n",
    ",0.097445827\n",
    ",0.103769439\n",
    ",0.110093051\n",
    ",0.116520329\n",
    ",0.122636609\n",
    ",0.128960221\n",
    ",0.138497473\n",
    ",0.141607446\n",
    ",0.147931058\n",
    ",0.154358336\n",
    ",0.160474616\n",
    ",0.166798229\n",
    ",0.173121841\n",
    ",0.179445453\n",
    ",0.185769065\n",
    ",0.192196343\n",
    ",0.375166432\n",
    ",0.387709991\n",
    ",0.394033603\n",
    ",0.895775944\n",
    ",0.95569476\n",
    ",0.958804734\n",
    ",0.962018373\n",
    "])\n",
    "interpolation"
   ]
  },
  {
   "cell_type": "code",
   "execution_count": null,
   "id": "1578ea07",
   "metadata": {},
   "outputs": [],
   "source": []
  }
 ],
 "metadata": {
  "kernelspec": {
   "display_name": "Python 3",
   "language": "python",
   "name": "python3"
  },
  "language_info": {
   "codemirror_mode": {
    "name": "ipython",
    "version": 3
   },
   "file_extension": ".py",
   "mimetype": "text/x-python",
   "name": "python",
   "nbconvert_exporter": "python",
   "pygments_lexer": "ipython3",
   "version": "3.8.8"
  }
 },
 "nbformat": 4,
 "nbformat_minor": 5
}
